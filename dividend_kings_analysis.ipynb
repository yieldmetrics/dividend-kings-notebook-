
{
 "cells": [
  {
   "cell_type": "markdown",
   "metadata": {},
   "source": [
    "# Dividend Kings Analysis\n",
    "\n",
    "This notebook pulls dividend history using Yahoo Finance (via yfinance) and estimates when each company became a Dividend King (50+ years of increases)."
   ]
  },
  {
   "cell_type": "code",
   "execution_count": null,
   "metadata": {},
   "outputs": [],
   "source": [
    "import yfinance as yf\n",
    "import pandas as pd\n",
    "import datetime"
   ]
  },
  {
   "cell_type": "code",
   "execution_count": null,
   "metadata": {},
   "outputs": [],
   "source": [
    "dividend_kings = {\n",
    "    \"KO\": \"Coca-Cola\",\n",
    "    \"JNJ\": \"Johnson & Johnson\",\n",
    "    \"PG\": \"Procter & Gamble\",\n",
    "    \"EMR\": \"Emerson Electric\",\n",
    "    \"MMM\": \"3M\",\n",
    "    \"GPC\": \"Genuine Parts\",\n",
    "    \"LOW\": \"Lowe's\",\n",
    "    \"CL\": \"Colgate-Palmolive\"\n",
    "}"
   ]
  },
  {
   "cell_type": "code",
   "execution_count": null,
   "metadata": {},
   "outputs": [],
   "source": [
    "def get_dividend_king_info(ticker):\n",
    "    stock = yf.Ticker(ticker)\n",
    "    dividends = stock.dividends\n",
    "    if dividends.empty:\n",
    "        return {'Ticker': ticker, 'Name': dividend_kings[ticker], 'Years Increased': 0, 'Joined': None}\n",
    "    dividends_by_year = dividends.resample('Y').sum()\n",
    "    streak = 0\n",
    "    previous = 0\n",
    "    values = dividends_by_year.values[::-1]\n",
    "    for i in range(len(values)):\n",
    "        if values[i] > 0 and (previous == 0 or values[i] >= previous):\n",
    "            streak += 1\n",
    "            previous = values[i]\n",
    "        else:\n",
    "            break\n",
    "    join_year = datetime.datetime.now().year - (streak - 50) if streak >= 50 else None\n",
    "    return {'Ticker': ticker, 'Name': dividend_kings[ticker], 'Years Increased': streak, 'Joined': join_year}"
   ]
  },
  {
   "cell_type": "code",
   "execution_count": null,
   "metadata": {},
   "outputs": [],
   "source": [
    "results = []\n",
    "for ticker in dividend_kings:\n",
    "    try:\n",
    "        info = get_dividend_king_info(ticker)\n",
    "        results.append(info)\n",
    "    except Exception as e:\n",
    "        results.append({'Ticker': ticker, 'Name': dividend_kings[ticker], 'Error': str(e)})\n",
    "pd.DataFrame(results)"
   ]
  }
 ],
 "metadata": {
  "kernelspec": {
   "display_name": "Python 3",
   "language": "python",
   "name": "python3"
  },
  "language_info": {
   "name": "python",
   "version": "3.10"
  }
 },
 "nbformat": 4,
 "nbformat_minor": 2
}
